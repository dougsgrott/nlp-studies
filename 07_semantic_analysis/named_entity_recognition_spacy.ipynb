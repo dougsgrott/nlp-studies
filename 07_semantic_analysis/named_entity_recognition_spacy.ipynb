{
 "cells": [
  {
   "cell_type": "code",
   "execution_count": null,
   "id": "c98ba546",
   "metadata": {},
   "outputs": [],
   "source": [
    "import spacy\n"
   ]
  },
  {
   "cell_type": "code",
   "execution_count": null,
   "metadata": {},
   "outputs": [],
   "source": [
    "\n",
    "# Load the small English model\n",
    "nlp = spacy.load(\"en_core_web_sm\")\n",
    "\n",
    "# Sample text\n",
    "text = \"\"\"\n",
    "On March 15, 2032, the NovaMind Institute unveiled their newest AI model, Aetherium, during the Global Tech Expo in Neo City. \n",
    "Dr. Elena Voss, the lead researcher, announced that Helios Corporation had secured a $500 million grant to fund space-AI integration projects. \n",
    "Meanwhile, Orion Systems introduced their holographic assistant, Lumina, designed to operate on lunar colonies.\n",
    "\"\"\"\n",
    "\n",
    "# Process the text\n",
    "doc = nlp(text)\n",
    "\n",
    "# Print Named Entities, their labels, and spans\n",
    "print(f\"{'Entity':30} | {'Label':15} | {'Start - End'}\")\n",
    "print(\"-\" * 65)\n",
    "for ent in doc.ents:\n",
    "    print(f\"{ent.text:30} | {ent.label_:15} | ({ent.start_char} - {ent.end_char})\")\n"
   ]
  },
  {
   "cell_type": "code",
   "execution_count": null,
   "id": "2ac02bc7",
   "metadata": {},
   "outputs": [
    {
     "name": "stdout",
     "output_type": "stream",
     "text": [
      "\n",
      "=== Part of Speech (POS) Tagging ===\n",
      "Token           | POS        | Detailed Tag\n",
      "---------------------------------------------\n",
      "Dr.             | PROPN      | NNP\n",
      "Lena            | PROPN      | NNP\n",
      "Howard          | PROPN      | NNP\n",
      "from            | ADP        | IN\n",
      "Solis           | PROPN      | NNP\n",
      "Labs            | PROPN      | NNP\n",
      "announced       | VERB       | VBD\n",
      "the             | DET        | DT\n",
      "new             | ADJ        | JJ\n",
      "product         | NOUN       | NN\n",
      "Astraeus        | PROPN      | NNP\n",
      "on              | ADP        | IN\n",
      "June            | PROPN      | NNP\n",
      "1               | NUM        | CD\n",
      ",               | PUNCT      | ,\n",
      "2045            | NUM        | CD\n",
      ".               | PUNCT      | .\n",
      "\n",
      "=== Named Entity Recognition (NER) ===\n",
      "Entity                         | Label\n",
      "---------------------------------------------\n",
      "Lena Howard                    | PERSON\n",
      "Solis Labs                     | ORG\n",
      "Astraeus                       | PRODUCT\n",
      "June 1, 2045                   | DATE\n"
     ]
    }
   ],
   "source": [
    "\n",
    "# Load spaCy model\n",
    "# nlp = spacy.load(\"en_core_web_sm\")\n",
    "# nlp = spacy.load(\"en_core_web_md\")\n",
    "nlp = spacy.load(\"en_core_web_trf\")\n",
    "\n",
    "# Sample text\n",
    "text = \"Dr. Lena Howard from Solis Labs announced the new product Astraeus on June 1, 2045.\"\n",
    "\n",
    "# Process the text\n",
    "doc = nlp(text)\n",
    "\n",
    "# --- POS Tagging ---\n",
    "print(\"\\n=== Part of Speech (POS) Tagging ===\")\n",
    "print(f\"{'Token':15} | {'POS':10} | {'Detailed Tag'}\")\n",
    "print(\"-\" * 45)\n",
    "for token in doc:\n",
    "    print(f\"{token.text:15} | {token.pos_:10} | {token.tag_}\")\n",
    "\n",
    "# --- NER ---\n",
    "print(\"\\n=== Named Entity Recognition (NER) ===\")\n",
    "print(f\"{'Entity':30} | {'Label'}\")\n",
    "print(\"-\" * 45)\n",
    "for ent in doc.ents:\n",
    "    print(f\"{ent.text:30} | {ent.label_}\")\n"
   ]
  },
  {
   "cell_type": "code",
   "execution_count": null,
   "metadata": {},
   "outputs": [],
   "source": []
  },
  {
   "cell_type": "code",
   "execution_count": null,
   "id": "f1b14b21",
   "metadata": {},
   "outputs": [],
   "source": []
  }
 ],
 "metadata": {
  "kernelspec": {
   "display_name": "nlp_venv",
   "language": "python",
   "name": "python3"
  },
  "language_info": {
   "codemirror_mode": {
    "name": "ipython",
    "version": 3
   },
   "file_extension": ".py",
   "mimetype": "text/x-python",
   "name": "python",
   "nbconvert_exporter": "python",
   "pygments_lexer": "ipython3",
   "version": "3.12.3"
  }
 },
 "nbformat": 4,
 "nbformat_minor": 5
}
